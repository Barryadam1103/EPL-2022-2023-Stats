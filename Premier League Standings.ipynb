{
 "cells": [
  {
   "cell_type": "markdown",
   "id": "6ce8390b",
   "metadata": {},
   "source": [
    "# EPL 2022-2023 Standings"
   ]
  },
  {
   "cell_type": "code",
   "execution_count": 1,
   "id": "cd8b6b03",
   "metadata": {},
   "outputs": [
    {
     "data": {
      "text/html": [
       "<div>\n",
       "<style scoped>\n",
       "    .dataframe tbody tr th:only-of-type {\n",
       "        vertical-align: middle;\n",
       "    }\n",
       "\n",
       "    .dataframe tbody tr th {\n",
       "        vertical-align: top;\n",
       "    }\n",
       "\n",
       "    .dataframe thead th {\n",
       "        text-align: right;\n",
       "    }\n",
       "</style>\n",
       "<table border=\"1\" class=\"dataframe\">\n",
       "  <thead>\n",
       "    <tr style=\"text-align: right;\">\n",
       "      <th></th>\n",
       "      <th>rank</th>\n",
       "      <th>points</th>\n",
       "      <th>goalsDiff</th>\n",
       "      <th>team_id</th>\n",
       "      <th>team.name</th>\n",
       "      <th>matches_played</th>\n",
       "      <th>wins</th>\n",
       "      <th>draws</th>\n",
       "      <th>losses</th>\n",
       "      <th>goals_for</th>\n",
       "      <th>...</th>\n",
       "      <th>home_draw</th>\n",
       "      <th>home_lose</th>\n",
       "      <th>home_goals_for</th>\n",
       "      <th>home_goals_against</th>\n",
       "      <th>away</th>\n",
       "      <th>away_wins</th>\n",
       "      <th>away_draw</th>\n",
       "      <th>away_lose</th>\n",
       "      <th>away_goals_for</th>\n",
       "      <th>away_goals_against</th>\n",
       "    </tr>\n",
       "  </thead>\n",
       "  <tbody>\n",
       "    <tr>\n",
       "      <th>0</th>\n",
       "      <td>1</td>\n",
       "      <td>89</td>\n",
       "      <td>61</td>\n",
       "      <td>50</td>\n",
       "      <td>Manchester City</td>\n",
       "      <td>38</td>\n",
       "      <td>28</td>\n",
       "      <td>5</td>\n",
       "      <td>5</td>\n",
       "      <td>94</td>\n",
       "      <td>...</td>\n",
       "      <td>1</td>\n",
       "      <td>1</td>\n",
       "      <td>60</td>\n",
       "      <td>17</td>\n",
       "      <td>19</td>\n",
       "      <td>11</td>\n",
       "      <td>4</td>\n",
       "      <td>4</td>\n",
       "      <td>34</td>\n",
       "      <td>16</td>\n",
       "    </tr>\n",
       "    <tr>\n",
       "      <th>1</th>\n",
       "      <td>2</td>\n",
       "      <td>84</td>\n",
       "      <td>45</td>\n",
       "      <td>42</td>\n",
       "      <td>Arsenal</td>\n",
       "      <td>38</td>\n",
       "      <td>26</td>\n",
       "      <td>6</td>\n",
       "      <td>6</td>\n",
       "      <td>88</td>\n",
       "      <td>...</td>\n",
       "      <td>3</td>\n",
       "      <td>2</td>\n",
       "      <td>53</td>\n",
       "      <td>25</td>\n",
       "      <td>19</td>\n",
       "      <td>12</td>\n",
       "      <td>3</td>\n",
       "      <td>4</td>\n",
       "      <td>35</td>\n",
       "      <td>18</td>\n",
       "    </tr>\n",
       "    <tr>\n",
       "      <th>2</th>\n",
       "      <td>3</td>\n",
       "      <td>75</td>\n",
       "      <td>15</td>\n",
       "      <td>33</td>\n",
       "      <td>Manchester United</td>\n",
       "      <td>38</td>\n",
       "      <td>23</td>\n",
       "      <td>6</td>\n",
       "      <td>9</td>\n",
       "      <td>58</td>\n",
       "      <td>...</td>\n",
       "      <td>3</td>\n",
       "      <td>1</td>\n",
       "      <td>36</td>\n",
       "      <td>10</td>\n",
       "      <td>19</td>\n",
       "      <td>8</td>\n",
       "      <td>3</td>\n",
       "      <td>8</td>\n",
       "      <td>22</td>\n",
       "      <td>33</td>\n",
       "    </tr>\n",
       "    <tr>\n",
       "      <th>3</th>\n",
       "      <td>4</td>\n",
       "      <td>71</td>\n",
       "      <td>35</td>\n",
       "      <td>34</td>\n",
       "      <td>Newcastle</td>\n",
       "      <td>38</td>\n",
       "      <td>19</td>\n",
       "      <td>14</td>\n",
       "      <td>5</td>\n",
       "      <td>68</td>\n",
       "      <td>...</td>\n",
       "      <td>6</td>\n",
       "      <td>2</td>\n",
       "      <td>36</td>\n",
       "      <td>14</td>\n",
       "      <td>19</td>\n",
       "      <td>8</td>\n",
       "      <td>8</td>\n",
       "      <td>3</td>\n",
       "      <td>32</td>\n",
       "      <td>19</td>\n",
       "    </tr>\n",
       "    <tr>\n",
       "      <th>4</th>\n",
       "      <td>5</td>\n",
       "      <td>67</td>\n",
       "      <td>28</td>\n",
       "      <td>40</td>\n",
       "      <td>Liverpool</td>\n",
       "      <td>38</td>\n",
       "      <td>19</td>\n",
       "      <td>10</td>\n",
       "      <td>9</td>\n",
       "      <td>75</td>\n",
       "      <td>...</td>\n",
       "      <td>5</td>\n",
       "      <td>1</td>\n",
       "      <td>46</td>\n",
       "      <td>17</td>\n",
       "      <td>19</td>\n",
       "      <td>6</td>\n",
       "      <td>5</td>\n",
       "      <td>8</td>\n",
       "      <td>29</td>\n",
       "      <td>30</td>\n",
       "    </tr>\n",
       "  </tbody>\n",
       "</table>\n",
       "<p>5 rows × 23 columns</p>\n",
       "</div>"
      ],
      "text/plain": [
       "   rank  points  goalsDiff  team_id          team.name  matches_played  wins  \\\n",
       "0     1      89         61       50    Manchester City              38    28   \n",
       "1     2      84         45       42            Arsenal              38    26   \n",
       "2     3      75         15       33  Manchester United              38    23   \n",
       "3     4      71         35       34          Newcastle              38    19   \n",
       "4     5      67         28       40          Liverpool              38    19   \n",
       "\n",
       "   draws  losses  goals_for  ...  home_draw  home_lose  home_goals_for  \\\n",
       "0      5       5         94  ...          1          1              60   \n",
       "1      6       6         88  ...          3          2              53   \n",
       "2      6       9         58  ...          3          1              36   \n",
       "3     14       5         68  ...          6          2              36   \n",
       "4     10       9         75  ...          5          1              46   \n",
       "\n",
       "   home_goals_against  away  away_wins  away_draw  away_lose  away_goals_for  \\\n",
       "0                  17    19         11          4          4              34   \n",
       "1                  25    19         12          3          4              35   \n",
       "2                  10    19          8          3          8              22   \n",
       "3                  14    19          8          8          3              32   \n",
       "4                  17    19          6          5          8              29   \n",
       "\n",
       "   away_goals_against  \n",
       "0                  16  \n",
       "1                  18  \n",
       "2                  33  \n",
       "3                  19  \n",
       "4                  30  \n",
       "\n",
       "[5 rows x 23 columns]"
      ]
     },
     "execution_count": 1,
     "metadata": {},
     "output_type": "execute_result"
    }
   ],
   "source": [
    "import pandas as pd\n",
    "data = pd.read_csv('2023_PL_standings.csv')\n",
    "data.head()"
   ]
  },
  {
   "cell_type": "markdown",
   "id": "d14d3fd8",
   "metadata": {},
   "source": [
    "# Team with the most losses"
   ]
  },
  {
   "cell_type": "code",
   "execution_count": 5,
   "id": "591e8fff",
   "metadata": {},
   "outputs": [
    {
     "name": "stdout",
     "output_type": "stream",
     "text": [
      "Team with the most losses: Southampton\n"
     ]
    }
   ],
   "source": [
    "team_most_losses = data['team.name'].loc[data['losses'].idxmax()]\n",
    "\n",
    "# Print the team with the most losses\n",
    "print(\"Team with the most losses:\", team_most_losses)"
   ]
  },
  {
   "cell_type": "markdown",
   "id": "41d2059f",
   "metadata": {},
   "source": [
    "# Team with the most wins"
   ]
  },
  {
   "cell_type": "code",
   "execution_count": 7,
   "id": "f924218e",
   "metadata": {},
   "outputs": [
    {
     "name": "stdout",
     "output_type": "stream",
     "text": [
      "Team with the most wins: Manchester City\n"
     ]
    }
   ],
   "source": [
    "team_most_wins = data['team.name'].loc[data['wins'].idxmax()]\n",
    "\n",
    "# Print the team with the most wins\n",
    "print(\"Team with the most wins:\", team_most_wins)"
   ]
  },
  {
   "cell_type": "markdown",
   "id": "704f5cae",
   "metadata": {},
   "source": [
    "# Team with the most draws"
   ]
  },
  {
   "cell_type": "code",
   "execution_count": 22,
   "id": "f8334cc6",
   "metadata": {},
   "outputs": [
    {
     "name": "stdout",
     "output_type": "stream",
     "text": [
      "Team with the most draws: Newcastle\n"
     ]
    }
   ],
   "source": [
    "# Find the team with the most draws\n",
    "team_most_draws = data['team.name'].loc[data['draws'].idxmax()]\n",
    "\n",
    "# Print the team with the most draws\n",
    "print(\"Team with the most draws:\", team_most_draws)"
   ]
  },
  {
   "cell_type": "markdown",
   "id": "110a47ce",
   "metadata": {},
   "source": [
    "# Best Goal Difference"
   ]
  },
  {
   "cell_type": "code",
   "execution_count": 9,
   "id": "38f91d36",
   "metadata": {},
   "outputs": [
    {
     "name": "stdout",
     "output_type": "stream",
     "text": [
      "Team with the best goal difference: Manchester City\n"
     ]
    }
   ],
   "source": [
    "team_best_goal_difference = data['team.name'].loc[data['goalsDiff'].idxmax()]\n",
    "\n",
    "# Print the team with the best goal difference\n",
    "print(\"Team with the best goal difference:\", team_best_goal_difference)"
   ]
  },
  {
   "cell_type": "markdown",
   "id": "09540016",
   "metadata": {},
   "source": [
    "# Worst Goal Difference"
   ]
  },
  {
   "cell_type": "code",
   "execution_count": 12,
   "id": "256047de",
   "metadata": {},
   "outputs": [
    {
     "name": "stdout",
     "output_type": "stream",
     "text": [
      "Team with the worst goal difference: Southampton\n"
     ]
    }
   ],
   "source": [
    "team_worst_goal_difference = data['team.name'].loc[data['goalsDiff'].idxmin()]\n",
    "\n",
    "# Print the team with the worst goal difference\n",
    "print(\"Team with the worst goal difference:\", team_worst_goal_difference)"
   ]
  },
  {
   "cell_type": "markdown",
   "id": "1f19fbf0",
   "metadata": {},
   "source": [
    "# Bottom Three Teams(Relegation)"
   ]
  },
  {
   "cell_type": "code",
   "execution_count": 17,
   "id": "4ceb73f6",
   "metadata": {},
   "outputs": [
    {
     "name": "stdout",
     "output_type": "stream",
     "text": [
      "Bottom 3 teams:\n",
      "    points    team.name\n",
      "19      25  Southampton\n",
      "18      31        Leeds\n",
      "17      34    Leicester\n"
     ]
    }
   ],
   "source": [
    "sorted_data = data.sort_values(by='points')\n",
    "\n",
    "# Get the bottom 3 teams\n",
    "bottom_3_teams = sorted_data.head(3)\n",
    "\n",
    "# Print the bottom 3 teams\n",
    "print(\"Bottom 3 teams:\")\n",
    "print(bottom_3_teams[['points', 'team.name']])"
   ]
  },
  {
   "cell_type": "markdown",
   "id": "dd2378c6",
   "metadata": {},
   "source": [
    "# Top 4 teams(Champions League)"
   ]
  },
  {
   "cell_type": "code",
   "execution_count": 19,
   "id": "e0bee69b",
   "metadata": {},
   "outputs": [
    {
     "name": "stdout",
     "output_type": "stream",
     "text": [
      "Top 4:\n",
      "   rank          team.name\n",
      "0     1    Manchester City\n",
      "1     2            Arsenal\n",
      "2     3  Manchester United\n",
      "3     4          Newcastle\n"
     ]
    }
   ],
   "source": [
    "sorted_data = data.sort_values(by='rank')\n",
    "\n",
    "# Get the top 4 teams\n",
    "bottom_3_teams = sorted_data.head(4)\n",
    "\n",
    "# Top 4 teams\n",
    "print(\"Top 4:\")\n",
    "print(bottom_3_teams[['rank', 'team.name']])"
   ]
  },
  {
   "cell_type": "markdown",
   "id": "2d41bae6",
   "metadata": {},
   "source": [
    "# Team with the best away record"
   ]
  },
  {
   "cell_type": "code",
   "execution_count": 20,
   "id": "0dd3fbf1",
   "metadata": {},
   "outputs": [
    {
     "name": "stdout",
     "output_type": "stream",
     "text": [
      "Team with the best away record: Arsenal\n"
     ]
    }
   ],
   "source": [
    "# Find the team with the most away wins\n",
    "team_best_away_record = data['team.name'].loc[data['away_wins'].idxmax()]\n",
    "\n",
    "# Print the team with the best away record\n",
    "print(\"Team with the best away record:\", team_best_away_record)"
   ]
  },
  {
   "cell_type": "markdown",
   "id": "ec76dee8",
   "metadata": {},
   "source": [
    "# Team with the best home record"
   ]
  },
  {
   "cell_type": "code",
   "execution_count": 21,
   "id": "3b37d0ee",
   "metadata": {},
   "outputs": [
    {
     "name": "stdout",
     "output_type": "stream",
     "text": [
      "Team with the best home record: Manchester City\n"
     ]
    }
   ],
   "source": [
    "# Find the team with the most away wins\n",
    "team_best_home_record = data['team.name'].loc[data['home_wins'].idxmax()]\n",
    "\n",
    "# Print the team with the best away record\n",
    "print(\"Team with the best home record:\", team_best_home_record)"
   ]
  },
  {
   "cell_type": "code",
   "execution_count": null,
   "id": "cfa3b5eb",
   "metadata": {},
   "outputs": [],
   "source": []
  }
 ],
 "metadata": {
  "kernelspec": {
   "display_name": "Python 3 (ipykernel)",
   "language": "python",
   "name": "python3"
  },
  "language_info": {
   "codemirror_mode": {
    "name": "ipython",
    "version": 3
   },
   "file_extension": ".py",
   "mimetype": "text/x-python",
   "name": "python",
   "nbconvert_exporter": "python",
   "pygments_lexer": "ipython3",
   "version": "3.9.13"
  }
 },
 "nbformat": 4,
 "nbformat_minor": 5
}
